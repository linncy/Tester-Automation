{
 "cells": [
  {
   "cell_type": "code",
   "execution_count": 24,
   "metadata": {},
   "outputs": [
    {
     "name": "stdout",
     "output_type": "stream",
     "text": [
      "Device Found: ('GPIB0::12::INSTR', 'GPIB0::25::INSTR')\n",
      "CM22C Successfully Connected\n",
      "LCR4284A Successfully Connected\n"
     ]
    }
   ],
   "source": [
    "import visa\n",
    "rm = visa.ResourceManager()\n",
    "if len(rm.list_resources())==0:\n",
    "\tprint('No Device Found.')\n",
    "else:\n",
    "\tprint('Device Found:', rm.list_resources())\n",
    "try:\n",
    "\tcm22c = rm.open_resource('GPIB0::12::INSTR')\n",
    "\tprint(\"CM22C Successfully Connected\")\n",
    "\n",
    "\tlcr4284a = rm.open_resource('GPIB0::25::INSTR')\n",
    "\tprint(\"LCR4284A Successfully Connected\")\n",
    "except:\n",
    "\tprint('Error')\n",
    "\texit()"
   ]
  },
  {
   "cell_type": "code",
   "execution_count": 43,
   "metadata": {},
   "outputs": [
    {
     "name": "stdout",
     "output_type": "stream",
     "text": [
      ".......\n",
      "Input A Unit set to K\n",
      "273.123000K\n",
      "OFF\n"
     ]
    }
   ],
   "source": [
    "strInsId=cm22c.query(\"*idn?\")\n",
    "strTempInputA=cm22c.query(\"input? a\")\n",
    "strTemUnitA=cm22c.query(\"input a:units?\")\n",
    "strLoopOnOff=cm22c.query(\"control?\")\n",
    "print(strTempInputA)\n",
    "if(cm22c.query(\"input a:units k;:*OPC?\")):\n",
    "\tprint(\"Input A Unit set to K\")\n",
    "#if(cm22c.query(\"LOOP 1:SETPOINT 303;:*OPC?\")):\n",
    "#\tprint('LOOP 1 Setpoint set to 303')\n",
    "cm22c.write(\"loop 1:setpt 273.123\")\n",
    "print(cm22c.query(\"loop 1:setpt?\"))\n",
    "#cm22c.query(\"stop\")\n",
    "print(cm22c.query(\"control?\"))"
   ]
  },
  {
   "cell_type": "code",
   "execution_count": 47,
   "metadata": {},
   "outputs": [
    {
     "name": "stdout",
     "output_type": "stream",
     "text": [
      "Cryo-con,22C,205487,3.12D\n",
      "HEWLETT-PACKARD,4284A,0,REV01.20\n",
      "\n",
      "10.000000K\n",
      "ON \n"
     ]
    }
   ],
   "source": [
    "print(cm22c.query(\"*idn?\"))\n",
    "print(lcr4284a.query(\"*idn?\"))\n",
    "\n",
    "cm22c.write(\"loop 1:setpt 10.000\")\n",
    "print(cm22c.query(\"loop 1:setpt?\"))\n",
    "\n",
    "cm22c.write(\"control\")\n",
    "print(cm22c.query(\"control?\"))"
   ]
  },
  {
   "cell_type": "code",
   "execution_count": 45,
   "metadata": {},
   "outputs": [
    {
     "name": "stdout",
     "output_type": "stream",
     "text": [
      ".......\n",
      ".......\n"
     ]
    }
   ],
   "source": [
    "print(cm22c.query(\"input? a\"))\n",
    "print(cm22c.query(\"input? b\"))"
   ]
  },
  {
   "cell_type": "code",
   "execution_count": 119,
   "metadata": {},
   "outputs": [
    {
     "data": {
      "text/plain": [
       "(6, <StatusCode.success: 0>)"
      ]
     },
     "execution_count": 119,
     "metadata": {},
     "output_type": "execute_result"
    }
   ],
   "source": [
    "cm22c.write(\"stop\")"
   ]
  },
  {
   "cell_type": "code",
   "execution_count": 114,
   "metadata": {},
   "outputs": [
    {
     "name": "stdout",
     "output_type": "stream",
     "text": [
      "HEWLETT-PACKARD,4284A,0,REV01.20\n",
      "\n",
      "(10, <StatusCode.success: 0>)\n",
      "+1.00000E+03\n",
      "\n",
      "(15, <StatusCode.success: 0>)\n",
      "+3.15789E+03\n",
      "\n"
     ]
    }
   ],
   "source": [
    "print(lcr4284a.query(\"*idn?\"))\n",
    "\n",
    "print(lcr4284a.write(\"FREQ 1E3\"))\n",
    "\n",
    "print(lcr4284a.query(\"FREQuency?\"))\n",
    "\n",
    "print(lcr4284a.write(\"FREQ \"+'%6.3f'%10**3.5))\n",
    "\n",
    "print(lcr4284a.query(\"FREQuency?\"))"
   ]
  },
  {
   "cell_type": "code",
   "execution_count": 139,
   "metadata": {},
   "outputs": [
    {
     "name": "stdout",
     "output_type": "stream",
     "text": [
      "(19, <StatusCode.success: 0>)\n",
      "MEAS\n",
      "\n",
      "(14, <StatusCode.success: 0>)\n",
      "+1.00000E+02\n",
      "\n",
      "1\n",
      "\n",
      "+2.63029E-08,-1.70470E+00,+0\n",
      "\n",
      "1\n",
      "\n",
      "(10, <StatusCode.success: 0>)\n",
      "+1.00000E+03\n",
      "\n",
      "FREQ 1000.000\n",
      "(15, <StatusCode.success: 0>)\n",
      "+1.07368E-06,-1.04920E+00,+0\n",
      "\n",
      "FREQ 3162.278\n",
      "(15, <StatusCode.success: 0>)\n",
      "+3.38211E-07,-1.09072E+00,+0\n",
      "\n",
      "FREQ 10000.000\n",
      "(16, <StatusCode.success: 0>)\n",
      "+1.01122E-07,-1.17365E+00,+0\n",
      "\n",
      "FREQ 31622.777\n",
      "(16, <StatusCode.success: 0>)\n",
      "+2.62979E-08,-1.70391E+00,+0\n",
      "\n",
      "FREQ 100000.000\n",
      "(17, <StatusCode.success: 0>)\n",
      "+6.17796E-09,-2.65091E+00,+0\n",
      "\n",
      "FREQ 316227.766\n",
      "(17, <StatusCode.success: 0>)\n",
      "+1.45751E-09,-3.79236E+00,+0\n",
      "\n",
      "FREQ 1000000.000\n",
      "(18, <StatusCode.success: 0>)\n",
      "-8.86224E-11,-1.97059E+01,+0\n",
      "\n"
     ]
    }
   ],
   "source": [
    "print(lcr4284a.write(\"DISPlay:PAGE MEAS\"))\n",
    "\n",
    "print(lcr4284a.query(\"DISPlay:PAGE?\"))\n",
    "\n",
    "print(lcr4284a.write(\"FUNC:IMP CPD\"))\n",
    "\n",
    "print(lcr4284a.query(\"FUNC:IMP:RANG?\"))\n",
    "\n",
    "print(lcr4284a.query(\"FUNC:IMP:RANG:AUTO?\"))\n",
    "\n",
    "print(lcr4284a.query(\"FETC?\"))\n",
    "\n",
    "print(lcr4284a.query(\"*OPC?\"))\n",
    "\n",
    "\n",
    "print(lcr4284a.write(\"FREQ 1E3\"))\n",
    "\n",
    "print(lcr4284a.query(\"FREQuency?\"))\n",
    "\n",
    "i=3\n",
    "\n",
    "while (i<=6):\n",
    "    print(\"FREQ \"+'%6.3f'%10**i)\n",
    "    print(lcr4284a.write(\"FREQ \"+'%6.3f'%10**i))\n",
    "    if (lcr4284a.query(\"*OPC?\")):\n",
    "        print(lcr4284a.query(\"FETC?\"))\n",
    "    i=i+0.5\n",
    "    "
   ]
  },
  {
   "cell_type": "code",
   "execution_count": null,
   "metadata": {},
   "outputs": [],
   "source": [
    "print(lcr4284a.write(\"DISPlay:PAGE MEAS\"))\n",
    "\n",
    "print(lcr4284a.query(\"DISPlay:PAGE?\"))\n",
    "\n",
    "print(lcr4284a.write(\"FUNC:IMP CPD\"))\n",
    "\n",
    "print(lcr4284a.query(\"FUNC:IMP:RANG?\"))\n",
    "\n",
    "print(lcr4284a.query(\"FUNC:IMP:RANG:AUTO?\"))\n",
    "\n",
    "print(lcr4284a.query(\"FETC?\"))\n",
    "\n",
    "print(lcr4284a.query(\"*OPC?\"))\n",
    "\n",
    "\n",
    "print(lcr4284a.write(\"FREQ 1E3\"))\n",
    "\n",
    "print(lcr4284a.query(\"FREQuency?\"))\n",
    "\n",
    "i=3\n",
    "\n",
    "while (i<=6):\n",
    "    print(\"FREQ \"+'%6.3f'%10**i)\n",
    "    print(lcr4284a.write(\"FREQ \"+'%6.3f'%10**i))\n",
    "    if (lcr4284a.query(\"*OPC?\")):\n",
    "        print(lcr4284a.query(\"FETC?\"))\n",
    "    i=i+0.5\n",
    "    "
   ]
  }
 ],
 "metadata": {
  "kernelspec": {
   "display_name": "Python 3",
   "language": "python",
   "name": "python3"
  },
  "language_info": {
   "codemirror_mode": {
    "name": "ipython",
    "version": 3
   },
   "file_extension": ".py",
   "mimetype": "text/x-python",
   "name": "python",
   "nbconvert_exporter": "python",
   "pygments_lexer": "ipython3",
   "version": "3.6.3"
  }
 },
 "nbformat": 4,
 "nbformat_minor": 2
}
