{
 "cells": [
  {
   "cell_type": "code",
   "execution_count": 1,
   "metadata": {},
   "outputs": [
    {
     "name": "stdout",
     "output_type": "stream",
     "text": [
      "No Device Found.\n",
      "Error\n"
     ]
    }
   ],
   "source": [
    "import visa\n",
    "rm = visa.ResourceManager()\n",
    "if len(rm.list_resources())==0:\n",
    "\tprint('No Device Found.')\n",
    "else:\n",
    "\tprint('Device Found:', rm.list_resources())\n",
    "try:\n",
    "    cm22c = rm.open_resource(\"COM3\")\n",
    "    print(\"COM3 Successfully Connected\")\n",
    "except:\n",
    "\tprint('Error')\n",
    "\texit()"
   ]
  },
  {
   "cell_type": "code",
   "execution_count": 6,
   "metadata": {},
   "outputs": [
    {
     "ename": "NameError",
     "evalue": "name 'cm22c' is not defined",
     "output_type": "error",
     "traceback": [
      "\u001b[1;31m---------------------------------------------------------------------------\u001b[0m",
      "\u001b[1;31mNameError\u001b[0m                                 Traceback (most recent call last)",
      "\u001b[1;32m<ipython-input-6-0013e21ad0ee>\u001b[0m in \u001b[0;36m<module>\u001b[1;34m()\u001b[0m\n\u001b[1;32m----> 1\u001b[1;33m \u001b[0mstrInsId\u001b[0m\u001b[1;33m=\u001b[0m\u001b[0mcm22c\u001b[0m\u001b[1;33m.\u001b[0m\u001b[0mquery\u001b[0m\u001b[1;33m(\u001b[0m\u001b[1;34m\"*idn?\"\u001b[0m\u001b[1;33m)\u001b[0m\u001b[1;33m\u001b[0m\u001b[0m\n\u001b[0m",
      "\u001b[1;31mNameError\u001b[0m: name 'cm22c' is not defined"
     ]
    }
   ],
   "source": [
    "strInsId=cm22c.query(\"*idn?\")\n",
    "strTempInputA=cm22c.query(\"input? a\")\n",
    "strTemUnitA=cm22c.query(\"input a:units?\")\n",
    "strLoopOnOff=cm22c.query(\"control?\")\n",
    "if(cm22c.query(\"input a:units k;:*OPC?\")):\n",
    "\tprint(\"Input A Unit set to K\")\n",
    "if(cm22c.query(\"LOOP 1:SETPOINT 273;:*OPC?\")):\n",
    "\tprint('LOOP 1 Setpoint set to 273')\n"
   ]
  },
  {
   "cell_type": "code",
   "execution_count": null,
   "metadata": {},
   "outputs": [],
   "source": []
  }
 ],
 "metadata": {
  "kernelspec": {
   "display_name": "Python 3",
   "language": "python",
   "name": "python3"
  },
  "language_info": {
   "codemirror_mode": {
    "name": "ipython",
    "version": 3
   },
   "file_extension": ".py",
   "mimetype": "text/x-python",
   "name": "python",
   "nbconvert_exporter": "python",
   "pygments_lexer": "ipython3",
   "version": "3.6.3"
  }
 },
 "nbformat": 4,
 "nbformat_minor": 2
}
